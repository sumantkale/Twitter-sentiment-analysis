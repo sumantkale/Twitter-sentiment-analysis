{
  "cells": [
    {
      "cell_type": "markdown",
      "source": [
        "# **Twitter-sentiment-analysis**"
      ],
      "metadata": {
        "id": "vzCFBerwVIfQ"
      },
      "id": "vzCFBerwVIfQ"
    },
    {
      "cell_type": "code",
      "execution_count": null,
      "id": "aa5e8d27",
      "metadata": {
        "execution": {
          "iopub.execute_input": "2023-09-19T00:13:00.722833Z",
          "iopub.status.busy": "2023-09-19T00:13:00.722503Z",
          "iopub.status.idle": "2023-09-19T00:13:03.084031Z",
          "shell.execute_reply": "2023-09-19T00:13:03.083201Z"
        },
        "papermill": {
          "duration": 2.371277,
          "end_time": "2023-09-19T00:13:03.086310",
          "exception": false,
          "start_time": "2023-09-19T00:13:00.715033",
          "status": "completed"
        },
        "tags": [],
        "id": "aa5e8d27"
      },
      "outputs": [],
      "source": [
        "# Import Libraries\n",
        "import pandas as pd\n",
        "import matplotlib.pyplot as plt\n",
        "import seaborn as sns\n",
        "from sklearn.feature_extraction.text import TfidfVectorizer\n",
        "from sklearn.linear_model import LogisticRegression\n",
        "from sklearn.metrics import roc_auc_score, confusion_matrix\n",
        "from sklearn.model_selection import train_test_split"
      ]
    },
    {
      "cell_type": "code",
      "execution_count": null,
      "id": "714a003b",
      "metadata": {
        "execution": {
          "iopub.execute_input": "2023-09-19T00:13:03.101349Z",
          "iopub.status.busy": "2023-09-19T00:13:03.100129Z",
          "iopub.status.idle": "2023-09-19T00:13:03.235120Z",
          "shell.execute_reply": "2023-09-19T00:13:03.233944Z"
        },
        "papermill": {
          "duration": 0.14493,
          "end_time": "2023-09-19T00:13:03.237726",
          "exception": false,
          "start_time": "2023-09-19T00:13:03.092796",
          "status": "completed"
        },
        "tags": [],
        "id": "714a003b"
      },
      "outputs": [],
      "source": [
        "# Importing dataset\n",
        "df_init = pd.read_csv(\"/content/Tweets.csv\")"
      ]
    },
    {
      "cell_type": "code",
      "execution_count": null,
      "id": "23935e55",
      "metadata": {
        "execution": {
          "iopub.execute_input": "2023-09-19T00:13:03.251994Z",
          "iopub.status.busy": "2023-09-19T00:13:03.251586Z",
          "iopub.status.idle": "2023-09-19T00:13:03.280164Z",
          "shell.execute_reply": "2023-09-19T00:13:03.279004Z"
        },
        "papermill": {
          "duration": 0.038936,
          "end_time": "2023-09-19T00:13:03.283056",
          "exception": false,
          "start_time": "2023-09-19T00:13:03.244120",
          "status": "completed"
        },
        "tags": [],
        "colab": {
          "base_uri": "https://localhost:8080/",
          "height": 451
        },
        "id": "23935e55",
        "outputId": "90cb3e11-55fc-4985-de8f-63b847f5176e"
      },
      "outputs": [
        {
          "output_type": "execute_result",
          "data": {
            "text/plain": [
              "             tweet_id airline_sentiment  airline_sentiment_confidence  \\\n",
              "0  570306133677760513           neutral                        1.0000   \n",
              "1  570301130888122368          positive                        0.3486   \n",
              "2  570301083672813571           neutral                        0.6837   \n",
              "3  570301031407624196          negative                        1.0000   \n",
              "4  570300817074462722          negative                        1.0000   \n",
              "\n",
              "  negativereason  negativereason_confidence         airline  \\\n",
              "0            NaN                        NaN  Virgin America   \n",
              "1            NaN                     0.0000  Virgin America   \n",
              "2            NaN                        NaN  Virgin America   \n",
              "3     Bad Flight                     0.7033  Virgin America   \n",
              "4     Can't Tell                     1.0000  Virgin America   \n",
              "\n",
              "  airline_sentiment_gold        name negativereason_gold  retweet_count  \\\n",
              "0                    NaN     cairdin                 NaN              0   \n",
              "1                    NaN    jnardino                 NaN              0   \n",
              "2                    NaN  yvonnalynn                 NaN              0   \n",
              "3                    NaN    jnardino                 NaN              0   \n",
              "4                    NaN    jnardino                 NaN              0   \n",
              "\n",
              "                                                text tweet_coord  \\\n",
              "0                @VirginAmerica What @dhepburn said.         NaN   \n",
              "1  @VirginAmerica plus you've added commercials t...         NaN   \n",
              "2  @VirginAmerica I didn't today... Must mean I n...         NaN   \n",
              "3  @VirginAmerica it's really aggressive to blast...         NaN   \n",
              "4  @VirginAmerica and it's a really big bad thing...         NaN   \n",
              "\n",
              "               tweet_created tweet_location               user_timezone  \n",
              "0  2015-02-24 11:35:52 -0800            NaN  Eastern Time (US & Canada)  \n",
              "1  2015-02-24 11:15:59 -0800            NaN  Pacific Time (US & Canada)  \n",
              "2  2015-02-24 11:15:48 -0800      Lets Play  Central Time (US & Canada)  \n",
              "3  2015-02-24 11:15:36 -0800            NaN  Pacific Time (US & Canada)  \n",
              "4  2015-02-24 11:14:45 -0800            NaN  Pacific Time (US & Canada)  "
            ],
            "text/html": [
              "\n",
              "  <div id=\"df-4a0fdd32-48c1-4581-8ac2-536c94271b01\" class=\"colab-df-container\">\n",
              "    <div>\n",
              "<style scoped>\n",
              "    .dataframe tbody tr th:only-of-type {\n",
              "        vertical-align: middle;\n",
              "    }\n",
              "\n",
              "    .dataframe tbody tr th {\n",
              "        vertical-align: top;\n",
              "    }\n",
              "\n",
              "    .dataframe thead th {\n",
              "        text-align: right;\n",
              "    }\n",
              "</style>\n",
              "<table border=\"1\" class=\"dataframe\">\n",
              "  <thead>\n",
              "    <tr style=\"text-align: right;\">\n",
              "      <th></th>\n",
              "      <th>tweet_id</th>\n",
              "      <th>airline_sentiment</th>\n",
              "      <th>airline_sentiment_confidence</th>\n",
              "      <th>negativereason</th>\n",
              "      <th>negativereason_confidence</th>\n",
              "      <th>airline</th>\n",
              "      <th>airline_sentiment_gold</th>\n",
              "      <th>name</th>\n",
              "      <th>negativereason_gold</th>\n",
              "      <th>retweet_count</th>\n",
              "      <th>text</th>\n",
              "      <th>tweet_coord</th>\n",
              "      <th>tweet_created</th>\n",
              "      <th>tweet_location</th>\n",
              "      <th>user_timezone</th>\n",
              "    </tr>\n",
              "  </thead>\n",
              "  <tbody>\n",
              "    <tr>\n",
              "      <th>0</th>\n",
              "      <td>570306133677760513</td>\n",
              "      <td>neutral</td>\n",
              "      <td>1.0000</td>\n",
              "      <td>NaN</td>\n",
              "      <td>NaN</td>\n",
              "      <td>Virgin America</td>\n",
              "      <td>NaN</td>\n",
              "      <td>cairdin</td>\n",
              "      <td>NaN</td>\n",
              "      <td>0</td>\n",
              "      <td>@VirginAmerica What @dhepburn said.</td>\n",
              "      <td>NaN</td>\n",
              "      <td>2015-02-24 11:35:52 -0800</td>\n",
              "      <td>NaN</td>\n",
              "      <td>Eastern Time (US &amp; Canada)</td>\n",
              "    </tr>\n",
              "    <tr>\n",
              "      <th>1</th>\n",
              "      <td>570301130888122368</td>\n",
              "      <td>positive</td>\n",
              "      <td>0.3486</td>\n",
              "      <td>NaN</td>\n",
              "      <td>0.0000</td>\n",
              "      <td>Virgin America</td>\n",
              "      <td>NaN</td>\n",
              "      <td>jnardino</td>\n",
              "      <td>NaN</td>\n",
              "      <td>0</td>\n",
              "      <td>@VirginAmerica plus you've added commercials t...</td>\n",
              "      <td>NaN</td>\n",
              "      <td>2015-02-24 11:15:59 -0800</td>\n",
              "      <td>NaN</td>\n",
              "      <td>Pacific Time (US &amp; Canada)</td>\n",
              "    </tr>\n",
              "    <tr>\n",
              "      <th>2</th>\n",
              "      <td>570301083672813571</td>\n",
              "      <td>neutral</td>\n",
              "      <td>0.6837</td>\n",
              "      <td>NaN</td>\n",
              "      <td>NaN</td>\n",
              "      <td>Virgin America</td>\n",
              "      <td>NaN</td>\n",
              "      <td>yvonnalynn</td>\n",
              "      <td>NaN</td>\n",
              "      <td>0</td>\n",
              "      <td>@VirginAmerica I didn't today... Must mean I n...</td>\n",
              "      <td>NaN</td>\n",
              "      <td>2015-02-24 11:15:48 -0800</td>\n",
              "      <td>Lets Play</td>\n",
              "      <td>Central Time (US &amp; Canada)</td>\n",
              "    </tr>\n",
              "    <tr>\n",
              "      <th>3</th>\n",
              "      <td>570301031407624196</td>\n",
              "      <td>negative</td>\n",
              "      <td>1.0000</td>\n",
              "      <td>Bad Flight</td>\n",
              "      <td>0.7033</td>\n",
              "      <td>Virgin America</td>\n",
              "      <td>NaN</td>\n",
              "      <td>jnardino</td>\n",
              "      <td>NaN</td>\n",
              "      <td>0</td>\n",
              "      <td>@VirginAmerica it's really aggressive to blast...</td>\n",
              "      <td>NaN</td>\n",
              "      <td>2015-02-24 11:15:36 -0800</td>\n",
              "      <td>NaN</td>\n",
              "      <td>Pacific Time (US &amp; Canada)</td>\n",
              "    </tr>\n",
              "    <tr>\n",
              "      <th>4</th>\n",
              "      <td>570300817074462722</td>\n",
              "      <td>negative</td>\n",
              "      <td>1.0000</td>\n",
              "      <td>Can't Tell</td>\n",
              "      <td>1.0000</td>\n",
              "      <td>Virgin America</td>\n",
              "      <td>NaN</td>\n",
              "      <td>jnardino</td>\n",
              "      <td>NaN</td>\n",
              "      <td>0</td>\n",
              "      <td>@VirginAmerica and it's a really big bad thing...</td>\n",
              "      <td>NaN</td>\n",
              "      <td>2015-02-24 11:14:45 -0800</td>\n",
              "      <td>NaN</td>\n",
              "      <td>Pacific Time (US &amp; Canada)</td>\n",
              "    </tr>\n",
              "  </tbody>\n",
              "</table>\n",
              "</div>\n",
              "    <div class=\"colab-df-buttons\">\n",
              "\n",
              "  <div class=\"colab-df-container\">\n",
              "    <button class=\"colab-df-convert\" onclick=\"convertToInteractive('df-4a0fdd32-48c1-4581-8ac2-536c94271b01')\"\n",
              "            title=\"Convert this dataframe to an interactive table.\"\n",
              "            style=\"display:none;\">\n",
              "\n",
              "  <svg xmlns=\"http://www.w3.org/2000/svg\" height=\"24px\" viewBox=\"0 -960 960 960\">\n",
              "    <path d=\"M120-120v-720h720v720H120Zm60-500h600v-160H180v160Zm220 220h160v-160H400v160Zm0 220h160v-160H400v160ZM180-400h160v-160H180v160Zm440 0h160v-160H620v160ZM180-180h160v-160H180v160Zm440 0h160v-160H620v160Z\"/>\n",
              "  </svg>\n",
              "    </button>\n",
              "\n",
              "  <style>\n",
              "    .colab-df-container {\n",
              "      display:flex;\n",
              "      gap: 12px;\n",
              "    }\n",
              "\n",
              "    .colab-df-convert {\n",
              "      background-color: #E8F0FE;\n",
              "      border: none;\n",
              "      border-radius: 50%;\n",
              "      cursor: pointer;\n",
              "      display: none;\n",
              "      fill: #1967D2;\n",
              "      height: 32px;\n",
              "      padding: 0 0 0 0;\n",
              "      width: 32px;\n",
              "    }\n",
              "\n",
              "    .colab-df-convert:hover {\n",
              "      background-color: #E2EBFA;\n",
              "      box-shadow: 0px 1px 2px rgba(60, 64, 67, 0.3), 0px 1px 3px 1px rgba(60, 64, 67, 0.15);\n",
              "      fill: #174EA6;\n",
              "    }\n",
              "\n",
              "    .colab-df-buttons div {\n",
              "      margin-bottom: 4px;\n",
              "    }\n",
              "\n",
              "    [theme=dark] .colab-df-convert {\n",
              "      background-color: #3B4455;\n",
              "      fill: #D2E3FC;\n",
              "    }\n",
              "\n",
              "    [theme=dark] .colab-df-convert:hover {\n",
              "      background-color: #434B5C;\n",
              "      box-shadow: 0px 1px 3px 1px rgba(0, 0, 0, 0.15);\n",
              "      filter: drop-shadow(0px 1px 2px rgba(0, 0, 0, 0.3));\n",
              "      fill: #FFFFFF;\n",
              "    }\n",
              "  </style>\n",
              "\n",
              "    <script>\n",
              "      const buttonEl =\n",
              "        document.querySelector('#df-4a0fdd32-48c1-4581-8ac2-536c94271b01 button.colab-df-convert');\n",
              "      buttonEl.style.display =\n",
              "        google.colab.kernel.accessAllowed ? 'block' : 'none';\n",
              "\n",
              "      async function convertToInteractive(key) {\n",
              "        const element = document.querySelector('#df-4a0fdd32-48c1-4581-8ac2-536c94271b01');\n",
              "        const dataTable =\n",
              "          await google.colab.kernel.invokeFunction('convertToInteractive',\n",
              "                                                    [key], {});\n",
              "        if (!dataTable) return;\n",
              "\n",
              "        const docLinkHtml = 'Like what you see? Visit the ' +\n",
              "          '<a target=\"_blank\" href=https://colab.research.google.com/notebooks/data_table.ipynb>data table notebook</a>'\n",
              "          + ' to learn more about interactive tables.';\n",
              "        element.innerHTML = '';\n",
              "        dataTable['output_type'] = 'display_data';\n",
              "        await google.colab.output.renderOutput(dataTable, element);\n",
              "        const docLink = document.createElement('div');\n",
              "        docLink.innerHTML = docLinkHtml;\n",
              "        element.appendChild(docLink);\n",
              "      }\n",
              "    </script>\n",
              "  </div>\n",
              "\n",
              "\n",
              "<div id=\"df-de7021c5-5b2b-4afd-a3a0-600616e5f473\">\n",
              "  <button class=\"colab-df-quickchart\" onclick=\"quickchart('df-de7021c5-5b2b-4afd-a3a0-600616e5f473')\"\n",
              "            title=\"Suggest charts.\"\n",
              "            style=\"display:none;\">\n",
              "\n",
              "<svg xmlns=\"http://www.w3.org/2000/svg\" height=\"24px\"viewBox=\"0 0 24 24\"\n",
              "     width=\"24px\">\n",
              "    <g>\n",
              "        <path d=\"M19 3H5c-1.1 0-2 .9-2 2v14c0 1.1.9 2 2 2h14c1.1 0 2-.9 2-2V5c0-1.1-.9-2-2-2zM9 17H7v-7h2v7zm4 0h-2V7h2v10zm4 0h-2v-4h2v4z\"/>\n",
              "    </g>\n",
              "</svg>\n",
              "  </button>\n",
              "\n",
              "<style>\n",
              "  .colab-df-quickchart {\n",
              "      --bg-color: #E8F0FE;\n",
              "      --fill-color: #1967D2;\n",
              "      --hover-bg-color: #E2EBFA;\n",
              "      --hover-fill-color: #174EA6;\n",
              "      --disabled-fill-color: #AAA;\n",
              "      --disabled-bg-color: #DDD;\n",
              "  }\n",
              "\n",
              "  [theme=dark] .colab-df-quickchart {\n",
              "      --bg-color: #3B4455;\n",
              "      --fill-color: #D2E3FC;\n",
              "      --hover-bg-color: #434B5C;\n",
              "      --hover-fill-color: #FFFFFF;\n",
              "      --disabled-bg-color: #3B4455;\n",
              "      --disabled-fill-color: #666;\n",
              "  }\n",
              "\n",
              "  .colab-df-quickchart {\n",
              "    background-color: var(--bg-color);\n",
              "    border: none;\n",
              "    border-radius: 50%;\n",
              "    cursor: pointer;\n",
              "    display: none;\n",
              "    fill: var(--fill-color);\n",
              "    height: 32px;\n",
              "    padding: 0;\n",
              "    width: 32px;\n",
              "  }\n",
              "\n",
              "  .colab-df-quickchart:hover {\n",
              "    background-color: var(--hover-bg-color);\n",
              "    box-shadow: 0 1px 2px rgba(60, 64, 67, 0.3), 0 1px 3px 1px rgba(60, 64, 67, 0.15);\n",
              "    fill: var(--button-hover-fill-color);\n",
              "  }\n",
              "\n",
              "  .colab-df-quickchart-complete:disabled,\n",
              "  .colab-df-quickchart-complete:disabled:hover {\n",
              "    background-color: var(--disabled-bg-color);\n",
              "    fill: var(--disabled-fill-color);\n",
              "    box-shadow: none;\n",
              "  }\n",
              "\n",
              "  .colab-df-spinner {\n",
              "    border: 2px solid var(--fill-color);\n",
              "    border-color: transparent;\n",
              "    border-bottom-color: var(--fill-color);\n",
              "    animation:\n",
              "      spin 1s steps(1) infinite;\n",
              "  }\n",
              "\n",
              "  @keyframes spin {\n",
              "    0% {\n",
              "      border-color: transparent;\n",
              "      border-bottom-color: var(--fill-color);\n",
              "      border-left-color: var(--fill-color);\n",
              "    }\n",
              "    20% {\n",
              "      border-color: transparent;\n",
              "      border-left-color: var(--fill-color);\n",
              "      border-top-color: var(--fill-color);\n",
              "    }\n",
              "    30% {\n",
              "      border-color: transparent;\n",
              "      border-left-color: var(--fill-color);\n",
              "      border-top-color: var(--fill-color);\n",
              "      border-right-color: var(--fill-color);\n",
              "    }\n",
              "    40% {\n",
              "      border-color: transparent;\n",
              "      border-right-color: var(--fill-color);\n",
              "      border-top-color: var(--fill-color);\n",
              "    }\n",
              "    60% {\n",
              "      border-color: transparent;\n",
              "      border-right-color: var(--fill-color);\n",
              "    }\n",
              "    80% {\n",
              "      border-color: transparent;\n",
              "      border-right-color: var(--fill-color);\n",
              "      border-bottom-color: var(--fill-color);\n",
              "    }\n",
              "    90% {\n",
              "      border-color: transparent;\n",
              "      border-bottom-color: var(--fill-color);\n",
              "    }\n",
              "  }\n",
              "</style>\n",
              "\n",
              "  <script>\n",
              "    async function quickchart(key) {\n",
              "      const quickchartButtonEl =\n",
              "        document.querySelector('#' + key + ' button');\n",
              "      quickchartButtonEl.disabled = true;  // To prevent multiple clicks.\n",
              "      quickchartButtonEl.classList.add('colab-df-spinner');\n",
              "      try {\n",
              "        const charts = await google.colab.kernel.invokeFunction(\n",
              "            'suggestCharts', [key], {});\n",
              "      } catch (error) {\n",
              "        console.error('Error during call to suggestCharts:', error);\n",
              "      }\n",
              "      quickchartButtonEl.classList.remove('colab-df-spinner');\n",
              "      quickchartButtonEl.classList.add('colab-df-quickchart-complete');\n",
              "    }\n",
              "    (() => {\n",
              "      let quickchartButtonEl =\n",
              "        document.querySelector('#df-de7021c5-5b2b-4afd-a3a0-600616e5f473 button');\n",
              "      quickchartButtonEl.style.display =\n",
              "        google.colab.kernel.accessAllowed ? 'block' : 'none';\n",
              "    })();\n",
              "  </script>\n",
              "</div>\n",
              "    </div>\n",
              "  </div>\n"
            ]
          },
          "metadata": {},
          "execution_count": 9
        }
      ],
      "source": [
        "df_init.head()"
      ]
    },
    {
      "cell_type": "code",
      "execution_count": null,
      "id": "dd2c00fc",
      "metadata": {
        "execution": {
          "iopub.execute_input": "2023-09-19T00:13:03.298618Z",
          "iopub.status.busy": "2023-09-19T00:13:03.297930Z",
          "iopub.status.idle": "2023-09-19T00:13:03.311268Z",
          "shell.execute_reply": "2023-09-19T00:13:03.310190Z"
        },
        "papermill": {
          "duration": 0.024038,
          "end_time": "2023-09-19T00:13:03.313928",
          "exception": false,
          "start_time": "2023-09-19T00:13:03.289890",
          "status": "completed"
        },
        "tags": [],
        "id": "dd2c00fc"
      },
      "outputs": [],
      "source": [
        "# Select only the necessary columns for sentiment analysis\n",
        "df = df_init[['airline_sentiment', 'text']].copy()"
      ]
    },
    {
      "cell_type": "code",
      "execution_count": null,
      "id": "6d278e18",
      "metadata": {
        "execution": {
          "iopub.execute_input": "2023-09-19T00:13:03.329614Z",
          "iopub.status.busy": "2023-09-19T00:13:03.329012Z",
          "iopub.status.idle": "2023-09-19T00:13:03.338085Z",
          "shell.execute_reply": "2023-09-19T00:13:03.336724Z"
        },
        "papermill": {
          "duration": 0.018903,
          "end_time": "2023-09-19T00:13:03.339980",
          "exception": false,
          "start_time": "2023-09-19T00:13:03.321077",
          "status": "completed"
        },
        "tags": [],
        "colab": {
          "base_uri": "https://localhost:8080/",
          "height": 206
        },
        "id": "6d278e18",
        "outputId": "21a03cc5-6a05-4f5c-e290-abfa4a81120e"
      },
      "outputs": [
        {
          "output_type": "execute_result",
          "data": {
            "text/plain": [
              "  airline_sentiment                                               text\n",
              "0           neutral                @VirginAmerica What @dhepburn said.\n",
              "1          positive  @VirginAmerica plus you've added commercials t...\n",
              "2           neutral  @VirginAmerica I didn't today... Must mean I n...\n",
              "3          negative  @VirginAmerica it's really aggressive to blast...\n",
              "4          negative  @VirginAmerica and it's a really big bad thing..."
            ],
            "text/html": [
              "\n",
              "  <div id=\"df-51edf842-a870-47de-bdca-7caf5a1f46a9\" class=\"colab-df-container\">\n",
              "    <div>\n",
              "<style scoped>\n",
              "    .dataframe tbody tr th:only-of-type {\n",
              "        vertical-align: middle;\n",
              "    }\n",
              "\n",
              "    .dataframe tbody tr th {\n",
              "        vertical-align: top;\n",
              "    }\n",
              "\n",
              "    .dataframe thead th {\n",
              "        text-align: right;\n",
              "    }\n",
              "</style>\n",
              "<table border=\"1\" class=\"dataframe\">\n",
              "  <thead>\n",
              "    <tr style=\"text-align: right;\">\n",
              "      <th></th>\n",
              "      <th>airline_sentiment</th>\n",
              "      <th>text</th>\n",
              "    </tr>\n",
              "  </thead>\n",
              "  <tbody>\n",
              "    <tr>\n",
              "      <th>0</th>\n",
              "      <td>neutral</td>\n",
              "      <td>@VirginAmerica What @dhepburn said.</td>\n",
              "    </tr>\n",
              "    <tr>\n",
              "      <th>1</th>\n",
              "      <td>positive</td>\n",
              "      <td>@VirginAmerica plus you've added commercials t...</td>\n",
              "    </tr>\n",
              "    <tr>\n",
              "      <th>2</th>\n",
              "      <td>neutral</td>\n",
              "      <td>@VirginAmerica I didn't today... Must mean I n...</td>\n",
              "    </tr>\n",
              "    <tr>\n",
              "      <th>3</th>\n",
              "      <td>negative</td>\n",
              "      <td>@VirginAmerica it's really aggressive to blast...</td>\n",
              "    </tr>\n",
              "    <tr>\n",
              "      <th>4</th>\n",
              "      <td>negative</td>\n",
              "      <td>@VirginAmerica and it's a really big bad thing...</td>\n",
              "    </tr>\n",
              "  </tbody>\n",
              "</table>\n",
              "</div>\n",
              "    <div class=\"colab-df-buttons\">\n",
              "\n",
              "  <div class=\"colab-df-container\">\n",
              "    <button class=\"colab-df-convert\" onclick=\"convertToInteractive('df-51edf842-a870-47de-bdca-7caf5a1f46a9')\"\n",
              "            title=\"Convert this dataframe to an interactive table.\"\n",
              "            style=\"display:none;\">\n",
              "\n",
              "  <svg xmlns=\"http://www.w3.org/2000/svg\" height=\"24px\" viewBox=\"0 -960 960 960\">\n",
              "    <path d=\"M120-120v-720h720v720H120Zm60-500h600v-160H180v160Zm220 220h160v-160H400v160Zm0 220h160v-160H400v160ZM180-400h160v-160H180v160Zm440 0h160v-160H620v160ZM180-180h160v-160H180v160Zm440 0h160v-160H620v160Z\"/>\n",
              "  </svg>\n",
              "    </button>\n",
              "\n",
              "  <style>\n",
              "    .colab-df-container {\n",
              "      display:flex;\n",
              "      gap: 12px;\n",
              "    }\n",
              "\n",
              "    .colab-df-convert {\n",
              "      background-color: #E8F0FE;\n",
              "      border: none;\n",
              "      border-radius: 50%;\n",
              "      cursor: pointer;\n",
              "      display: none;\n",
              "      fill: #1967D2;\n",
              "      height: 32px;\n",
              "      padding: 0 0 0 0;\n",
              "      width: 32px;\n",
              "    }\n",
              "\n",
              "    .colab-df-convert:hover {\n",
              "      background-color: #E2EBFA;\n",
              "      box-shadow: 0px 1px 2px rgba(60, 64, 67, 0.3), 0px 1px 3px 1px rgba(60, 64, 67, 0.15);\n",
              "      fill: #174EA6;\n",
              "    }\n",
              "\n",
              "    .colab-df-buttons div {\n",
              "      margin-bottom: 4px;\n",
              "    }\n",
              "\n",
              "    [theme=dark] .colab-df-convert {\n",
              "      background-color: #3B4455;\n",
              "      fill: #D2E3FC;\n",
              "    }\n",
              "\n",
              "    [theme=dark] .colab-df-convert:hover {\n",
              "      background-color: #434B5C;\n",
              "      box-shadow: 0px 1px 3px 1px rgba(0, 0, 0, 0.15);\n",
              "      filter: drop-shadow(0px 1px 2px rgba(0, 0, 0, 0.3));\n",
              "      fill: #FFFFFF;\n",
              "    }\n",
              "  </style>\n",
              "\n",
              "    <script>\n",
              "      const buttonEl =\n",
              "        document.querySelector('#df-51edf842-a870-47de-bdca-7caf5a1f46a9 button.colab-df-convert');\n",
              "      buttonEl.style.display =\n",
              "        google.colab.kernel.accessAllowed ? 'block' : 'none';\n",
              "\n",
              "      async function convertToInteractive(key) {\n",
              "        const element = document.querySelector('#df-51edf842-a870-47de-bdca-7caf5a1f46a9');\n",
              "        const dataTable =\n",
              "          await google.colab.kernel.invokeFunction('convertToInteractive',\n",
              "                                                    [key], {});\n",
              "        if (!dataTable) return;\n",
              "\n",
              "        const docLinkHtml = 'Like what you see? Visit the ' +\n",
              "          '<a target=\"_blank\" href=https://colab.research.google.com/notebooks/data_table.ipynb>data table notebook</a>'\n",
              "          + ' to learn more about interactive tables.';\n",
              "        element.innerHTML = '';\n",
              "        dataTable['output_type'] = 'display_data';\n",
              "        await google.colab.output.renderOutput(dataTable, element);\n",
              "        const docLink = document.createElement('div');\n",
              "        docLink.innerHTML = docLinkHtml;\n",
              "        element.appendChild(docLink);\n",
              "      }\n",
              "    </script>\n",
              "  </div>\n",
              "\n",
              "\n",
              "<div id=\"df-41ada48c-bd01-4162-a014-d35755a2d068\">\n",
              "  <button class=\"colab-df-quickchart\" onclick=\"quickchart('df-41ada48c-bd01-4162-a014-d35755a2d068')\"\n",
              "            title=\"Suggest charts.\"\n",
              "            style=\"display:none;\">\n",
              "\n",
              "<svg xmlns=\"http://www.w3.org/2000/svg\" height=\"24px\"viewBox=\"0 0 24 24\"\n",
              "     width=\"24px\">\n",
              "    <g>\n",
              "        <path d=\"M19 3H5c-1.1 0-2 .9-2 2v14c0 1.1.9 2 2 2h14c1.1 0 2-.9 2-2V5c0-1.1-.9-2-2-2zM9 17H7v-7h2v7zm4 0h-2V7h2v10zm4 0h-2v-4h2v4z\"/>\n",
              "    </g>\n",
              "</svg>\n",
              "  </button>\n",
              "\n",
              "<style>\n",
              "  .colab-df-quickchart {\n",
              "      --bg-color: #E8F0FE;\n",
              "      --fill-color: #1967D2;\n",
              "      --hover-bg-color: #E2EBFA;\n",
              "      --hover-fill-color: #174EA6;\n",
              "      --disabled-fill-color: #AAA;\n",
              "      --disabled-bg-color: #DDD;\n",
              "  }\n",
              "\n",
              "  [theme=dark] .colab-df-quickchart {\n",
              "      --bg-color: #3B4455;\n",
              "      --fill-color: #D2E3FC;\n",
              "      --hover-bg-color: #434B5C;\n",
              "      --hover-fill-color: #FFFFFF;\n",
              "      --disabled-bg-color: #3B4455;\n",
              "      --disabled-fill-color: #666;\n",
              "  }\n",
              "\n",
              "  .colab-df-quickchart {\n",
              "    background-color: var(--bg-color);\n",
              "    border: none;\n",
              "    border-radius: 50%;\n",
              "    cursor: pointer;\n",
              "    display: none;\n",
              "    fill: var(--fill-color);\n",
              "    height: 32px;\n",
              "    padding: 0;\n",
              "    width: 32px;\n",
              "  }\n",
              "\n",
              "  .colab-df-quickchart:hover {\n",
              "    background-color: var(--hover-bg-color);\n",
              "    box-shadow: 0 1px 2px rgba(60, 64, 67, 0.3), 0 1px 3px 1px rgba(60, 64, 67, 0.15);\n",
              "    fill: var(--button-hover-fill-color);\n",
              "  }\n",
              "\n",
              "  .colab-df-quickchart-complete:disabled,\n",
              "  .colab-df-quickchart-complete:disabled:hover {\n",
              "    background-color: var(--disabled-bg-color);\n",
              "    fill: var(--disabled-fill-color);\n",
              "    box-shadow: none;\n",
              "  }\n",
              "\n",
              "  .colab-df-spinner {\n",
              "    border: 2px solid var(--fill-color);\n",
              "    border-color: transparent;\n",
              "    border-bottom-color: var(--fill-color);\n",
              "    animation:\n",
              "      spin 1s steps(1) infinite;\n",
              "  }\n",
              "\n",
              "  @keyframes spin {\n",
              "    0% {\n",
              "      border-color: transparent;\n",
              "      border-bottom-color: var(--fill-color);\n",
              "      border-left-color: var(--fill-color);\n",
              "    }\n",
              "    20% {\n",
              "      border-color: transparent;\n",
              "      border-left-color: var(--fill-color);\n",
              "      border-top-color: var(--fill-color);\n",
              "    }\n",
              "    30% {\n",
              "      border-color: transparent;\n",
              "      border-left-color: var(--fill-color);\n",
              "      border-top-color: var(--fill-color);\n",
              "      border-right-color: var(--fill-color);\n",
              "    }\n",
              "    40% {\n",
              "      border-color: transparent;\n",
              "      border-right-color: var(--fill-color);\n",
              "      border-top-color: var(--fill-color);\n",
              "    }\n",
              "    60% {\n",
              "      border-color: transparent;\n",
              "      border-right-color: var(--fill-color);\n",
              "    }\n",
              "    80% {\n",
              "      border-color: transparent;\n",
              "      border-right-color: var(--fill-color);\n",
              "      border-bottom-color: var(--fill-color);\n",
              "    }\n",
              "    90% {\n",
              "      border-color: transparent;\n",
              "      border-bottom-color: var(--fill-color);\n",
              "    }\n",
              "  }\n",
              "</style>\n",
              "\n",
              "  <script>\n",
              "    async function quickchart(key) {\n",
              "      const quickchartButtonEl =\n",
              "        document.querySelector('#' + key + ' button');\n",
              "      quickchartButtonEl.disabled = true;  // To prevent multiple clicks.\n",
              "      quickchartButtonEl.classList.add('colab-df-spinner');\n",
              "      try {\n",
              "        const charts = await google.colab.kernel.invokeFunction(\n",
              "            'suggestCharts', [key], {});\n",
              "      } catch (error) {\n",
              "        console.error('Error during call to suggestCharts:', error);\n",
              "      }\n",
              "      quickchartButtonEl.classList.remove('colab-df-spinner');\n",
              "      quickchartButtonEl.classList.add('colab-df-quickchart-complete');\n",
              "    }\n",
              "    (() => {\n",
              "      let quickchartButtonEl =\n",
              "        document.querySelector('#df-41ada48c-bd01-4162-a014-d35755a2d068 button');\n",
              "      quickchartButtonEl.style.display =\n",
              "        google.colab.kernel.accessAllowed ? 'block' : 'none';\n",
              "    })();\n",
              "  </script>\n",
              "</div>\n",
              "    </div>\n",
              "  </div>\n"
            ]
          },
          "metadata": {},
          "execution_count": 11
        }
      ],
      "source": [
        "# Checking the result\n",
        "df.head()"
      ]
    },
    {
      "cell_type": "code",
      "execution_count": null,
      "id": "276fff6d",
      "metadata": {
        "execution": {
          "iopub.execute_input": "2023-09-19T00:13:03.355488Z",
          "iopub.status.busy": "2023-09-19T00:13:03.355040Z",
          "iopub.status.idle": "2023-09-19T00:13:03.616711Z",
          "shell.execute_reply": "2023-09-19T00:13:03.615240Z"
        },
        "papermill": {
          "duration": 0.272564,
          "end_time": "2023-09-19T00:13:03.619337",
          "exception": false,
          "start_time": "2023-09-19T00:13:03.346773",
          "status": "completed"
        },
        "tags": [],
        "colab": {
          "base_uri": "https://localhost:8080/",
          "height": 564
        },
        "id": "276fff6d",
        "outputId": "6fa68ac3-b057-4ff7-843d-791b6516994d"
      },
      "outputs": [
        {
          "output_type": "display_data",
          "data": {
            "text/plain": [
              "<Figure size 800x600 with 1 Axes>"
            ],
            "image/png": "[encoded data removed]"
          },
          "metadata": {}
        }
      ],
      "source": [
        "# Count the occurrences of each sentiment category\n",
        "sentiment_counts = df['airline_sentiment'].value_counts()\n",
        "\n",
        "# Visualize the distribution using a histogram with counts on bars\n",
        "plt.figure(figsize=(8, 6))\n",
        "ax = sns.histplot(df['airline_sentiment'], bins=3, color='skyblue', discrete=True)\n",
        "plt.xlabel('Sentiment')\n",
        "plt.ylabel('Count')\n",
        "plt.title('Distribution of Airline Sentiments')\n",
        "\n",
        "# Add counts on top of the bars\n",
        "for p in ax.patches:\n",
        "    ax.annotate(f'{p.get_height()}', (p.get_x() + p.get_width() / 2., p.get_height()), ha='center', va='center', fontsize=12, xytext=(0, 10), textcoords='offset points')\n",
        "\n",
        "plt.xticks()\n",
        "plt.show()"
      ]
    },
    {
      "cell_type": "code",
      "execution_count": null,
      "id": "75272122",
      "metadata": {
        "execution": {
          "iopub.execute_input": "2023-09-19T00:13:03.635359Z",
          "iopub.status.busy": "2023-09-19T00:13:03.635012Z",
          "iopub.status.idle": "2023-09-19T00:13:03.780125Z",
          "shell.execute_reply": "2023-09-19T00:13:03.779355Z"
        },
        "papermill": {
          "duration": 0.155323,
          "end_time": "2023-09-19T00:13:03.782100",
          "exception": false,
          "start_time": "2023-09-19T00:13:03.626777",
          "status": "completed"
        },
        "tags": [],
        "colab": {
          "base_uri": "https://localhost:8080/",
          "height": 675
        },
        "id": "75272122",
        "outputId": "069eef5d-faca-44c1-f14a-1582b4d328a5"
      },
      "outputs": [
        {
          "output_type": "display_data",
          "data": {
            "text/plain": [
              "<Figure size 800x800 with 1 Axes>"
            ],
            "image/png": "[encoded data removed]"
          },
          "metadata": {}
        }
      ],
      "source": [
        "# Visualize the distribution of airline sentiments using a pie chart\n",
        "sentiment_counts = df['airline_sentiment'].value_counts()\n",
        "plt.figure(figsize=(8, 8))\n",
        "plt.pie(sentiment_counts, labels=sentiment_counts.index, autopct='%1.1f%%', startangle=140)\n",
        "plt.title('Distribution of Airline Sentiments')\n",
        "plt.axis('equal')  # Equal aspect ratio ensures that pie is drawn as a circle.\n",
        "plt.show()"
      ]
    },
    {
      "cell_type": "code",
      "execution_count": null,
      "id": "f386125b",
      "metadata": {
        "execution": {
          "iopub.execute_input": "2023-09-19T00:13:03.804268Z",
          "iopub.status.busy": "2023-09-19T00:13:03.803358Z",
          "iopub.status.idle": "2023-09-19T00:13:03.823090Z",
          "shell.execute_reply": "2023-09-19T00:13:03.822094Z"
        },
        "papermill": {
          "duration": 0.034217,
          "end_time": "2023-09-19T00:13:03.826056",
          "exception": false,
          "start_time": "2023-09-19T00:13:03.791839",
          "status": "completed"
        },
        "tags": [],
        "id": "f386125b"
      },
      "outputs": [],
      "source": [
        "# Create a mapping dictionary to convert sentiment labels to numerical values\n",
        "target_map = {'positive': 1, 'negative': 0, 'neutral': 2}\n",
        "\n",
        "# Remove leading and trailing whitespaces from 'airline_sentiment' column\n",
        "df['airline_sentiment'] = df['airline_sentiment'].str.strip()\n",
        "\n",
        "# Apply the mapping to create a new 'target' column with numerical sentiment values\n",
        "df['target'] = df['airline_sentiment'].map(target_map)"
      ]
    },
    {
      "cell_type": "code",
      "execution_count": null,
      "id": "08f4c15b",
      "metadata": {
        "execution": {
          "iopub.execute_input": "2023-09-19T00:13:03.846746Z",
          "iopub.status.busy": "2023-09-19T00:13:03.846343Z",
          "iopub.status.idle": "2023-09-19T00:13:03.856556Z",
          "shell.execute_reply": "2023-09-19T00:13:03.855194Z"
        },
        "papermill": {
          "duration": 0.021025,
          "end_time": "2023-09-19T00:13:03.858393",
          "exception": false,
          "start_time": "2023-09-19T00:13:03.837368",
          "status": "completed"
        },
        "tags": [],
        "colab": {
          "base_uri": "https://localhost:8080/",
          "height": 206
        },
        "id": "08f4c15b",
        "outputId": "ae69928f-ea4b-4cbb-d31a-65e9bf02ddfd"
      },
      "outputs": [
        {
          "output_type": "execute_result",
          "data": {
            "text/plain": [
              "  airline_sentiment                                               text  target\n",
              "0           neutral                @VirginAmerica What @dhepburn said.       2\n",
              "1          positive  @VirginAmerica plus you've added commercials t...       1\n",
              "2           neutral  @VirginAmerica I didn't today... Must mean I n...       2\n",
              "3          negative  @VirginAmerica it's really aggressive to blast...       0\n",
              "4          negative  @VirginAmerica and it's a really big bad thing...       0"
            ],
            "text/html": [
              "\n",
              "  <div id=\"df-6b718bb9-65ed-430f-af64-363736547fc0\" class=\"colab-df-container\">\n",
              "    <div>\n",
              "<style scoped>\n",
              "    .dataframe tbody tr th:only-of-type {\n",
              "        vertical-align: middle;\n",
              "    }\n",
              "\n",
              "    .dataframe tbody tr th {\n",
              "        vertical-align: top;\n",
              "    }\n",
              "\n",
              "    .dataframe thead th {\n",
              "        text-align: right;\n",
              "    }\n",
              "</style>\n",
              "<table border=\"1\" class=\"dataframe\">\n",
              "  <thead>\n",
              "    <tr style=\"text-align: right;\">\n",
              "      <th></th>\n",
              "      <th>airline_sentiment</th>\n",
              "      <th>text</th>\n",
              "      <th>target</th>\n",
              "    </tr>\n",
              "  </thead>\n",
              "  <tbody>\n",
              "    <tr>\n",
              "      <th>0</th>\n",
              "      <td>neutral</td>\n",
              "      <td>@VirginAmerica What @dhepburn said.</td>\n",
              "      <td>2</td>\n",
              "    </tr>\n",
              "    <tr>\n",
              "      <th>1</th>\n",
              "      <td>positive</td>\n",
              "      <td>@VirginAmerica plus you've added commercials t...</td>\n",
              "      <td>1</td>\n",
              "    </tr>\n",
              "    <tr>\n",
              "      <th>2</th>\n",
              "      <td>neutral</td>\n",
              "      <td>@VirginAmerica I didn't today... Must mean I n...</td>\n",
              "      <td>2</td>\n",
              "    </tr>\n",
              "    <tr>\n",
              "      <th>3</th>\n",
              "      <td>negative</td>\n",
              "      <td>@VirginAmerica it's really aggressive to blast...</td>\n",
              "      <td>0</td>\n",
              "    </tr>\n",
              "    <tr>\n",
              "      <th>4</th>\n",
              "      <td>negative</td>\n",
              "      <td>@VirginAmerica and it's a really big bad thing...</td>\n",
              "      <td>0</td>\n",
              "    </tr>\n",
              "  </tbody>\n",
              "</table>\n",
              "</div>\n",
              "    <div class=\"colab-df-buttons\">\n",
              "\n",
              "  <div class=\"colab-df-container\">\n",
              "    <button class=\"colab-df-convert\" onclick=\"convertToInteractive('df-6b718bb9-65ed-430f-af64-363736547fc0')\"\n",
              "            title=\"Convert this dataframe to an interactive table.\"\n",
              "            style=\"display:none;\">\n",
              "\n",
              "  <svg xmlns=\"http://www.w3.org/2000/svg\" height=\"24px\" viewBox=\"0 -960 960 960\">\n",
              "    <path d=\"M120-120v-720h720v720H120Zm60-500h600v-160H180v160Zm220 220h160v-160H400v160Zm0 220h160v-160H400v160ZM180-400h160v-160H180v160Zm440 0h160v-160H620v160ZM180-180h160v-160H180v160Zm440 0h160v-160H620v160Z\"/>\n",
              "  </svg>\n",
              "    </button>\n",
              "\n",
              "  <style>\n",
              "    .colab-df-container {\n",
              "      display:flex;\n",
              "      gap: 12px;\n",
              "    }\n",
              "\n",
              "    .colab-df-convert {\n",
              "      background-color: #E8F0FE;\n",
              "      border: none;\n",
              "      border-radius: 50%;\n",
              "      cursor: pointer;\n",
              "      display: none;\n",
              "      fill: #1967D2;\n",
              "      height: 32px;\n",
              "      padding: 0 0 0 0;\n",
              "      width: 32px;\n",
              "    }\n",
              "\n",
              "    .colab-df-convert:hover {\n",
              "      background-color: #E2EBFA;\n",
              "      box-shadow: 0px 1px 2px rgba(60, 64, 67, 0.3), 0px 1px 3px 1px rgba(60, 64, 67, 0.15);\n",
              "      fill: #174EA6;\n",
              "    }\n",
              "\n",
              "    .colab-df-buttons div {\n",
              "      margin-bottom: 4px;\n",
              "    }\n",
              "\n",
              "    [theme=dark] .colab-df-convert {\n",
              "      background-color: #3B4455;\n",
              "      fill: #D2E3FC;\n",
              "    }\n",
              "\n",
              "    [theme=dark] .colab-df-convert:hover {\n",
              "      background-color: #434B5C;\n",
              "      box-shadow: 0px 1px 3px 1px rgba(0, 0, 0, 0.15);\n",
              "      filter: drop-shadow(0px 1px 2px rgba(0, 0, 0, 0.3));\n",
              "      fill: #FFFFFF;\n",
              "    }\n",
              "  </style>\n",
              "\n",
              "    <script>\n",
              "      const buttonEl =\n",
              "        document.querySelector('#df-6b718bb9-65ed-430f-af64-363736547fc0 button.colab-df-convert');\n",
              "      buttonEl.style.display =\n",
              "        google.colab.kernel.accessAllowed ? 'block' : 'none';\n",
              "\n",
              "      async function convertToInteractive(key) {\n",
              "        const element = document.querySelector('#df-6b718bb9-65ed-430f-af64-363736547fc0');\n",
              "        const dataTable =\n",
              "          await google.colab.kernel.invokeFunction('convertToInteractive',\n",
              "                                                    [key], {});\n",
              "        if (!dataTable) return;\n",
              "\n",
              "        const docLinkHtml = 'Like what you see? Visit the ' +\n",
              "          '<a target=\"_blank\" href=https://colab.research.google.com/notebooks/data_table.ipynb>data table notebook</a>'\n",
              "          + ' to learn more about interactive tables.';\n",
              "        element.innerHTML = '';\n",
              "        dataTable['output_type'] = 'display_data';\n",
              "        await google.colab.output.renderOutput(dataTable, element);\n",
              "        const docLink = document.createElement('div');\n",
              "        docLink.innerHTML = docLinkHtml;\n",
              "        element.appendChild(docLink);\n",
              "      }\n",
              "    </script>\n",
              "  </div>\n",
              "\n",
              "\n",
              "<div id=\"df-b1556a6e-4415-42fa-a9b3-e0a5fda0b8e9\">\n",
              "  <button class=\"colab-df-quickchart\" onclick=\"quickchart('df-b1556a6e-4415-42fa-a9b3-e0a5fda0b8e9')\"\n",
              "            title=\"Suggest charts.\"\n",
              "            style=\"display:none;\">\n",
              "\n",
              "<svg xmlns=\"http://www.w3.org/2000/svg\" height=\"24px\"viewBox=\"0 0 24 24\"\n",
              "     width=\"24px\">\n",
              "    <g>\n",
              "        <path d=\"M19 3H5c-1.1 0-2 .9-2 2v14c0 1.1.9 2 2 2h14c1.1 0 2-.9 2-2V5c0-1.1-.9-2-2-2zM9 17H7v-7h2v7zm4 0h-2V7h2v10zm4 0h-2v-4h2v4z\"/>\n",
              "    </g>\n",
              "</svg>\n",
              "  </button>\n",
              "\n",
              "<style>\n",
              "  .colab-df-quickchart {\n",
              "      --bg-color: #E8F0FE;\n",
              "      --fill-color: #1967D2;\n",
              "      --hover-bg-color: #E2EBFA;\n",
              "      --hover-fill-color: #174EA6;\n",
              "      --disabled-fill-color: #AAA;\n",
              "      --disabled-bg-color: #DDD;\n",
              "  }\n",
              "\n",
              "  [theme=dark] .colab-df-quickchart {\n",
              "      --bg-color: #3B4455;\n",
              "      --fill-color: #D2E3FC;\n",
              "      --hover-bg-color: #434B5C;\n",
              "      --hover-fill-color: #FFFFFF;\n",
              "      --disabled-bg-color: #3B4455;\n",
              "      --disabled-fill-color: #666;\n",
              "  }\n",
              "\n",
              "  .colab-df-quickchart {\n",
              "    background-color: var(--bg-color);\n",
              "    border: none;\n",
              "    border-radius: 50%;\n",
              "    cursor: pointer;\n",
              "    display: none;\n",
              "    fill: var(--fill-color);\n",
              "    height: 32px;\n",
              "    padding: 0;\n",
              "    width: 32px;\n",
              "  }\n",
              "\n",
              "  .colab-df-quickchart:hover {\n",
              "    background-color: var(--hover-bg-color);\n",
              "    box-shadow: 0 1px 2px rgba(60, 64, 67, 0.3), 0 1px 3px 1px rgba(60, 64, 67, 0.15);\n",
              "    fill: var(--button-hover-fill-color);\n",
              "  }\n",
              "\n",
              "  .colab-df-quickchart-complete:disabled,\n",
              "  .colab-df-quickchart-complete:disabled:hover {\n",
              "    background-color: var(--disabled-bg-color);\n",
              "    fill: var(--disabled-fill-color);\n",
              "    box-shadow: none;\n",
              "  }\n",
              "\n",
              "  .colab-df-spinner {\n",
              "    border: 2px solid var(--fill-color);\n",
              "    border-color: transparent;\n",
              "    border-bottom-color: var(--fill-color);\n",
              "    animation:\n",
              "      spin 1s steps(1) infinite;\n",
              "  }\n",
              "\n",
              "  @keyframes spin {\n",
              "    0% {\n",
              "      border-color: transparent;\n",
              "      border-bottom-color: var(--fill-color);\n",
              "      border-left-color: var(--fill-color);\n",
              "    }\n",
              "    20% {\n",
              "      border-color: transparent;\n",
              "      border-left-color: var(--fill-color);\n",
              "      border-top-color: var(--fill-color);\n",
              "    }\n",
              "    30% {\n",
              "      border-color: transparent;\n",
              "      border-left-color: var(--fill-color);\n",
              "      border-top-color: var(--fill-color);\n",
              "      border-right-color: var(--fill-color);\n",
              "    }\n",
              "    40% {\n",
              "      border-color: transparent;\n",
              "      border-right-color: var(--fill-color);\n",
              "      border-top-color: var(--fill-color);\n",
              "    }\n",
              "    60% {\n",
              "      border-color: transparent;\n",
              "      border-right-color: var(--fill-color);\n",
              "    }\n",
              "    80% {\n",
              "      border-color: transparent;\n",
              "      border-right-color: var(--fill-color);\n",
              "      border-bottom-color: var(--fill-color);\n",
              "    }\n",
              "    90% {\n",
              "      border-color: transparent;\n",
              "      border-bottom-color: var(--fill-color);\n",
              "    }\n",
              "  }\n",
              "</style>\n",
              "\n",
              "  <script>\n",
              "    async function quickchart(key) {\n",
              "      const quickchartButtonEl =\n",
              "        document.querySelector('#' + key + ' button');\n",
              "      quickchartButtonEl.disabled = true;  // To prevent multiple clicks.\n",
              "      quickchartButtonEl.classList.add('colab-df-spinner');\n",
              "      try {\n",
              "        const charts = await google.colab.kernel.invokeFunction(\n",
              "            'suggestCharts', [key], {});\n",
              "      } catch (error) {\n",
              "        console.error('Error during call to suggestCharts:', error);\n",
              "      }\n",
              "      quickchartButtonEl.classList.remove('colab-df-spinner');\n",
              "      quickchartButtonEl.classList.add('colab-df-quickchart-complete');\n",
              "    }\n",
              "    (() => {\n",
              "      let quickchartButtonEl =\n",
              "        document.querySelector('#df-b1556a6e-4415-42fa-a9b3-e0a5fda0b8e9 button');\n",
              "      quickchartButtonEl.style.display =\n",
              "        google.colab.kernel.accessAllowed ? 'block' : 'none';\n",
              "    })();\n",
              "  </script>\n",
              "</div>\n",
              "    </div>\n",
              "  </div>\n"
            ]
          },
          "metadata": {},
          "execution_count": 15
        }
      ],
      "source": [
        "# Checking the result\n",
        "df.head()"
      ]
    },
    {
      "cell_type": "code",
      "execution_count": null,
      "id": "e5b6fc48",
      "metadata": {
        "execution": {
          "iopub.execute_input": "2023-09-19T00:13:03.875298Z",
          "iopub.status.busy": "2023-09-19T00:13:03.874933Z",
          "iopub.status.idle": "2023-09-19T00:13:03.884952Z",
          "shell.execute_reply": "2023-09-19T00:13:03.883834Z"
        },
        "papermill": {
          "duration": 0.02167,
          "end_time": "2023-09-19T00:13:03.887723",
          "exception": false,
          "start_time": "2023-09-19T00:13:03.866053",
          "status": "completed"
        },
        "tags": [],
        "id": "e5b6fc48"
      },
      "outputs": [],
      "source": [
        "# Split the dataset into training and testing sets\n",
        "df_train, df_test = train_test_split(df)"
      ]
    },
    {
      "cell_type": "code",
      "execution_count": null,
      "id": "74c00bdf",
      "metadata": {
        "execution": {
          "iopub.execute_input": "2023-09-19T00:13:03.905370Z",
          "iopub.status.busy": "2023-09-19T00:13:03.904316Z",
          "iopub.status.idle": "2023-09-19T00:13:03.916172Z",
          "shell.execute_reply": "2023-09-19T00:13:03.915029Z"
        },
        "papermill": {
          "duration": 0.023256,
          "end_time": "2023-09-19T00:13:03.918919",
          "exception": false,
          "start_time": "2023-09-19T00:13:03.895663",
          "status": "completed"
        },
        "tags": [],
        "colab": {
          "base_uri": "https://localhost:8080/",
          "height": 206
        },
        "id": "74c00bdf",
        "outputId": "55b9b6b5-7a58-48e9-c3f5-6461cedfc644"
      },
      "outputs": [
        {
          "output_type": "execute_result",
          "data": {
            "text/plain": [
              "      airline_sentiment                                               text  \\\n",
              "5500           negative  @SouthwestAir 14 hours????  Sorry don't get it...   \n",
              "13761           neutral  @AmericanAir 48 hours and still no bag. Could ...   \n",
              "8887           negative  @JetBlue @KyleJudah I just spoke to the baggag...   \n",
              "1428           negative  @united clicked \"upgrade now\" and it didn't up...   \n",
              "6789           positive  @JetBlue wouldn't mind paying for the snacks b...   \n",
              "\n",
              "       target  \n",
              "5500        0  \n",
              "13761       2  \n",
              "8887        0  \n",
              "1428        0  \n",
              "6789        1  "
            ],
            "text/html": [
              "\n",
              "  <div id=\"df-328a5993-3be3-4793-a7ce-27b3c2df7345\" class=\"colab-df-container\">\n",
              "    <div>\n",
              "<style scoped>\n",
              "    .dataframe tbody tr th:only-of-type {\n",
              "        vertical-align: middle;\n",
              "    }\n",
              "\n",
              "    .dataframe tbody tr th {\n",
              "        vertical-align: top;\n",
              "    }\n",
              "\n",
              "    .dataframe thead th {\n",
              "        text-align: right;\n",
              "    }\n",
              "</style>\n",
              "<table border=\"1\" class=\"dataframe\">\n",
              "  <thead>\n",
              "    <tr style=\"text-align: right;\">\n",
              "      <th></th>\n",
              "      <th>airline_sentiment</th>\n",
              "      <th>text</th>\n",
              "      <th>target</th>\n",
              "    </tr>\n",
              "  </thead>\n",
              "  <tbody>\n",
              "    <tr>\n",
              "      <th>5500</th>\n",
              "      <td>negative</td>\n",
              "      <td>@SouthwestAir 14 hours????  Sorry don't get it...</td>\n",
              "      <td>0</td>\n",
              "    </tr>\n",
              "    <tr>\n",
              "      <th>13761</th>\n",
              "      <td>neutral</td>\n",
              "      <td>@AmericanAir 48 hours and still no bag. Could ...</td>\n",
              "      <td>2</td>\n",
              "    </tr>\n",
              "    <tr>\n",
              "      <th>8887</th>\n",
              "      <td>negative</td>\n",
              "      <td>@JetBlue @KyleJudah I just spoke to the baggag...</td>\n",
              "      <td>0</td>\n",
              "    </tr>\n",
              "    <tr>\n",
              "      <th>1428</th>\n",
              "      <td>negative</td>\n",
              "      <td>@united clicked \"upgrade now\" and it didn't up...</td>\n",
              "      <td>0</td>\n",
              "    </tr>\n",
              "    <tr>\n",
              "      <th>6789</th>\n",
              "      <td>positive</td>\n",
              "      <td>@JetBlue wouldn't mind paying for the snacks b...</td>\n",
              "      <td>1</td>\n",
              "    </tr>\n",
              "  </tbody>\n",
              "</table>\n",
              "</div>\n",
              "    <div class=\"colab-df-buttons\">\n",
              "\n",
              "  <div class=\"colab-df-container\">\n",
              "    <button class=\"colab-df-convert\" onclick=\"convertToInteractive('df-328a5993-3be3-4793-a7ce-27b3c2df7345')\"\n",
              "            title=\"Convert this dataframe to an interactive table.\"\n",
              "            style=\"display:none;\">\n",
              "\n",
              "  <svg xmlns=\"http://www.w3.org/2000/svg\" height=\"24px\" viewBox=\"0 -960 960 960\">\n",
              "    <path d=\"M120-120v-720h720v720H120Zm60-500h600v-160H180v160Zm220 220h160v-160H400v160Zm0 220h160v-160H400v160ZM180-400h160v-160H180v160Zm440 0h160v-160H620v160ZM180-180h160v-160H180v160Zm440 0h160v-160H620v160Z\"/>\n",
              "  </svg>\n",
              "    </button>\n",
              "\n",
              "  <style>\n",
              "    .colab-df-container {\n",
              "      display:flex;\n",
              "      gap: 12px;\n",
              "    }\n",
              "\n",
              "    .colab-df-convert {\n",
              "      background-color: #E8F0FE;\n",
              "      border: none;\n",
              "      border-radius: 50%;\n",
              "      cursor: pointer;\n",
              "      display: none;\n",
              "      fill: #1967D2;\n",
              "      height: 32px;\n",
              "      padding: 0 0 0 0;\n",
              "      width: 32px;\n",
              "    }\n",
              "\n",
              "    .colab-df-convert:hover {\n",
              "      background-color: #E2EBFA;\n",
              "      box-shadow: 0px 1px 2px rgba(60, 64, 67, 0.3), 0px 1px 3px 1px rgba(60, 64, 67, 0.15);\n",
              "      fill: #174EA6;\n",
              "    }\n",
              "\n",
              "    .colab-df-buttons div {\n",
              "      margin-bottom: 4px;\n",
              "    }\n",
              "\n",
              "    [theme=dark] .colab-df-convert {\n",
              "      background-color: #3B4455;\n",
              "      fill: #D2E3FC;\n",
              "    }\n",
              "\n",
              "    [theme=dark] .colab-df-convert:hover {\n",
              "      background-color: #434B5C;\n",
              "      box-shadow: 0px 1px 3px 1px rgba(0, 0, 0, 0.15);\n",
              "      filter: drop-shadow(0px 1px 2px rgba(0, 0, 0, 0.3));\n",
              "      fill: #FFFFFF;\n",
              "    }\n",
              "  </style>\n",
              "\n",
              "    <script>\n",
              "      const buttonEl =\n",
              "        document.querySelector('#df-328a5993-3be3-4793-a7ce-27b3c2df7345 button.colab-df-convert');\n",
              "      buttonEl.style.display =\n",
              "        google.colab.kernel.accessAllowed ? 'block' : 'none';\n",
              "\n",
              "      async function convertToInteractive(key) {\n",
              "        const element = document.querySelector('#df-328a5993-3be3-4793-a7ce-27b3c2df7345');\n",
              "        const dataTable =\n",
              "          await google.colab.kernel.invokeFunction('convertToInteractive',\n",
              "                                                    [key], {});\n",
              "        if (!dataTable) return;\n",
              "\n",
              "        const docLinkHtml = 'Like what you see? Visit the ' +\n",
              "          '<a target=\"_blank\" href=https://colab.research.google.com/notebooks/data_table.ipynb>data table notebook</a>'\n",
              "          + ' to learn more about interactive tables.';\n",
              "        element.innerHTML = '';\n",
              "        dataTable['output_type'] = 'display_data';\n",
              "        await google.colab.output.renderOutput(dataTable, element);\n",
              "        const docLink = document.createElement('div');\n",
              "        docLink.innerHTML = docLinkHtml;\n",
              "        element.appendChild(docLink);\n",
              "      }\n",
              "    </script>\n",
              "  </div>\n",
              "\n",
              "\n",
              "<div id=\"df-ea25459b-9213-4960-b6ca-5d2cd1ec316d\">\n",
              "  <button class=\"colab-df-quickchart\" onclick=\"quickchart('df-ea25459b-9213-4960-b6ca-5d2cd1ec316d')\"\n",
              "            title=\"Suggest charts.\"\n",
              "            style=\"display:none;\">\n",
              "\n",
              "<svg xmlns=\"http://www.w3.org/2000/svg\" height=\"24px\"viewBox=\"0 0 24 24\"\n",
              "     width=\"24px\">\n",
              "    <g>\n",
              "        <path d=\"M19 3H5c-1.1 0-2 .9-2 2v14c0 1.1.9 2 2 2h14c1.1 0 2-.9 2-2V5c0-1.1-.9-2-2-2zM9 17H7v-7h2v7zm4 0h-2V7h2v10zm4 0h-2v-4h2v4z\"/>\n",
              "    </g>\n",
              "</svg>\n",
              "  </button>\n",
              "\n",
              "<style>\n",
              "  .colab-df-quickchart {\n",
              "      --bg-color: #E8F0FE;\n",
              "      --fill-color: #1967D2;\n",
              "      --hover-bg-color: #E2EBFA;\n",
              "      --hover-fill-color: #174EA6;\n",
              "      --disabled-fill-color: #AAA;\n",
              "      --disabled-bg-color: #DDD;\n",
              "  }\n",
              "\n",
              "  [theme=dark] .colab-df-quickchart {\n",
              "      --bg-color: #3B4455;\n",
              "      --fill-color: #D2E3FC;\n",
              "      --hover-bg-color: #434B5C;\n",
              "      --hover-fill-color: #FFFFFF;\n",
              "      --disabled-bg-color: #3B4455;\n",
              "      --disabled-fill-color: #666;\n",
              "  }\n",
              "\n",
              "  .colab-df-quickchart {\n",
              "    background-color: var(--bg-color);\n",
              "    border: none;\n",
              "    border-radius: 50%;\n",
              "    cursor: pointer;\n",
              "    display: none;\n",
              "    fill: var(--fill-color);\n",
              "    height: 32px;\n",
              "    padding: 0;\n",
              "    width: 32px;\n",
              "  }\n",
              "\n",
              "  .colab-df-quickchart:hover {\n",
              "    background-color: var(--hover-bg-color);\n",
              "    box-shadow: 0 1px 2px rgba(60, 64, 67, 0.3), 0 1px 3px 1px rgba(60, 64, 67, 0.15);\n",
              "    fill: var(--button-hover-fill-color);\n",
              "  }\n",
              "\n",
              "  .colab-df-quickchart-complete:disabled,\n",
              "  .colab-df-quickchart-complete:disabled:hover {\n",
              "    background-color: var(--disabled-bg-color);\n",
              "    fill: var(--disabled-fill-color);\n",
              "    box-shadow: none;\n",
              "  }\n",
              "\n",
              "  .colab-df-spinner {\n",
              "    border: 2px solid var(--fill-color);\n",
              "    border-color: transparent;\n",
              "    border-bottom-color: var(--fill-color);\n",
              "    animation:\n",
              "      spin 1s steps(1) infinite;\n",
              "  }\n",
              "\n",
              "  @keyframes spin {\n",
              "    0% {\n",
              "      border-color: transparent;\n",
              "      border-bottom-color: var(--fill-color);\n",
              "      border-left-color: var(--fill-color);\n",
              "    }\n",
              "    20% {\n",
              "      border-color: transparent;\n",
              "      border-left-color: var(--fill-color);\n",
              "      border-top-color: var(--fill-color);\n",
              "    }\n",
              "    30% {\n",
              "      border-color: transparent;\n",
              "      border-left-color: var(--fill-color);\n",
              "      border-top-color: var(--fill-color);\n",
              "      border-right-color: var(--fill-color);\n",
              "    }\n",
              "    40% {\n",
              "      border-color: transparent;\n",
              "      border-right-color: var(--fill-color);\n",
              "      border-top-color: var(--fill-color);\n",
              "    }\n",
              "    60% {\n",
              "      border-color: transparent;\n",
              "      border-right-color: var(--fill-color);\n",
              "    }\n",
              "    80% {\n",
              "      border-color: transparent;\n",
              "      border-right-color: var(--fill-color);\n",
              "      border-bottom-color: var(--fill-color);\n",
              "    }\n",
              "    90% {\n",
              "      border-color: transparent;\n",
              "      border-bottom-color: var(--fill-color);\n",
              "    }\n",
              "  }\n",
              "</style>\n",
              "\n",
              "  <script>\n",
              "    async function quickchart(key) {\n",
              "      const quickchartButtonEl =\n",
              "        document.querySelector('#' + key + ' button');\n",
              "      quickchartButtonEl.disabled = true;  // To prevent multiple clicks.\n",
              "      quickchartButtonEl.classList.add('colab-df-spinner');\n",
              "      try {\n",
              "        const charts = await google.colab.kernel.invokeFunction(\n",
              "            'suggestCharts', [key], {});\n",
              "      } catch (error) {\n",
              "        console.error('Error during call to suggestCharts:', error);\n",
              "      }\n",
              "      quickchartButtonEl.classList.remove('colab-df-spinner');\n",
              "      quickchartButtonEl.classList.add('colab-df-quickchart-complete');\n",
              "    }\n",
              "    (() => {\n",
              "      let quickchartButtonEl =\n",
              "        document.querySelector('#df-ea25459b-9213-4960-b6ca-5d2cd1ec316d button');\n",
              "      quickchartButtonEl.style.display =\n",
              "        google.colab.kernel.accessAllowed ? 'block' : 'none';\n",
              "    })();\n",
              "  </script>\n",
              "</div>\n",
              "    </div>\n",
              "  </div>\n"
            ]
          },
          "metadata": {},
          "execution_count": 17
        }
      ],
      "source": [
        "# Checking the Result\n",
        "df_train.head()"
      ]
    },
    {
      "cell_type": "code",
      "execution_count": null,
      "id": "0560d59e",
      "metadata": {
        "execution": {
          "iopub.execute_input": "2023-09-19T00:13:03.937196Z",
          "iopub.status.busy": "2023-09-19T00:13:03.936841Z",
          "iopub.status.idle": "2023-09-19T00:13:04.207769Z",
          "shell.execute_reply": "2023-09-19T00:13:04.206848Z"
        },
        "papermill": {
          "duration": 0.282967,
          "end_time": "2023-09-19T00:13:04.210246",
          "exception": false,
          "start_time": "2023-09-19T00:13:03.927279",
          "status": "completed"
        },
        "tags": [],
        "id": "0560d59e"
      },
      "outputs": [],
      "source": [
        "# Vectorize text data using TF-IDF\n",
        "vectorizer = TfidfVectorizer(max_features=2000)\n",
        "x_train = vectorizer.fit_transform(df_train['text'])\n",
        "x_test = vectorizer.transform(df_test['text'])\n",
        "y_train = df_train['target']\n",
        "y_test = df_test['target']"
      ]
    },
    {
      "cell_type": "code",
      "execution_count": null,
      "id": "745831a9",
      "metadata": {
        "execution": {
          "iopub.execute_input": "2023-09-19T00:13:04.229147Z",
          "iopub.status.busy": "2023-09-19T00:13:04.228732Z",
          "iopub.status.idle": "2023-09-19T00:13:04.689375Z",
          "shell.execute_reply": "2023-09-19T00:13:04.687764Z"
        },
        "papermill": {
          "duration": 0.473391,
          "end_time": "2023-09-19T00:13:04.692194",
          "exception": false,
          "start_time": "2023-09-19T00:13:04.218803",
          "status": "completed"
        },
        "tags": [],
        "colab": {
          "base_uri": "https://localhost:8080/",
          "height": 74
        },
        "id": "745831a9",
        "outputId": "b581c842-6cbf-4f71-d5fe-e97bd68bdfbf"
      },
      "outputs": [
        {
          "output_type": "execute_result",
          "data": {
            "text/plain": [
              "LogisticRegression(max_iter=500)"
            ],
            "text/html": [
              "<style>#sk-container-id-1 {color: black;background-color: white;}#sk-container-id-1 pre{padding: 0;}#sk-container-id-1 div.sk-toggleable {background-color: white;}#sk-container-id-1 label.sk-toggleable__label {cursor: pointer;display: block;width: 100%;margin-bottom: 0;padding: 0.3em;box-sizing: border-box;text-align: center;}#sk-container-id-1 label.sk-toggleable__label-arrow:before {content: \"▸\";float: left;margin-right: 0.25em;color: #696969;}#sk-container-id-1 label.sk-toggleable__label-arrow:hover:before {color: black;}#sk-container-id-1 div.sk-estimator:hover label.sk-toggleable__label-arrow:before {color: black;}#sk-container-id-1 div.sk-toggleable__content {max-height: 0;max-width: 0;overflow: hidden;text-align: left;background-color: #f0f8ff;}#sk-container-id-1 div.sk-toggleable__content pre {margin: 0.2em;color: black;border-radius: 0.25em;background-color: #f0f8ff;}#sk-container-id-1 input.sk-toggleable__control:checked~div.sk-toggleable__content {max-height: 200px;max-width: 100%;overflow: auto;}#sk-container-id-1 input.sk-toggleable__control:checked~label.sk-toggleable__label-arrow:before {content: \"▾\";}#sk-container-id-1 div.sk-estimator input.sk-toggleable__control:checked~label.sk-toggleable__label {background-color: #d4ebff;}#sk-container-id-1 div.sk-label input.sk-toggleable__control:checked~label.sk-toggleable__label {background-color: #d4ebff;}#sk-container-id-1 input.sk-hidden--visually {border: 0;clip: rect(1px 1px 1px 1px);clip: rect(1px, 1px, 1px, 1px);height: 1px;margin: -1px;overflow: hidden;padding: 0;position: absolute;width: 1px;}#sk-container-id-1 div.sk-estimator {font-family: monospace;background-color: #f0f8ff;border: 1px dotted black;border-radius: 0.25em;box-sizing: border-box;margin-bottom: 0.5em;}#sk-container-id-1 div.sk-estimator:hover {background-color: #d4ebff;}#sk-container-id-1 div.sk-parallel-item::after {content: \"\";width: 100%;border-bottom: 1px solid gray;flex-grow: 1;}#sk-container-id-1 div.sk-label:hover label.sk-toggleable__label {background-color: #d4ebff;}#sk-container-id-1 div.sk-serial::before {content: \"\";position: absolute;border-left: 1px solid gray;box-sizing: border-box;top: 0;bottom: 0;left: 50%;z-index: 0;}#sk-container-id-1 div.sk-serial {display: flex;flex-direction: column;align-items: center;background-color: white;padding-right: 0.2em;padding-left: 0.2em;position: relative;}#sk-container-id-1 div.sk-item {position: relative;z-index: 1;}#sk-container-id-1 div.sk-parallel {display: flex;align-items: stretch;justify-content: center;background-color: white;position: relative;}#sk-container-id-1 div.sk-item::before, #sk-container-id-1 div.sk-parallel-item::before {content: \"\";position: absolute;border-left: 1px solid gray;box-sizing: border-box;top: 0;bottom: 0;left: 50%;z-index: -1;}#sk-container-id-1 div.sk-parallel-item {display: flex;flex-direction: column;z-index: 1;position: relative;background-color: white;}#sk-container-id-1 div.sk-parallel-item:first-child::after {align-self: flex-end;width: 50%;}#sk-container-id-1 div.sk-parallel-item:last-child::after {align-self: flex-start;width: 50%;}#sk-container-id-1 div.sk-parallel-item:only-child::after {width: 0;}#sk-container-id-1 div.sk-dashed-wrapped {border: 1px dashed gray;margin: 0 0.4em 0.5em 0.4em;box-sizing: border-box;padding-bottom: 0.4em;background-color: white;}#sk-container-id-1 div.sk-label label {font-family: monospace;font-weight: bold;display: inline-block;line-height: 1.2em;}#sk-container-id-1 div.sk-label-container {text-align: center;}#sk-container-id-1 div.sk-container {/* jupyter's `normalize.less` sets `[hidden] { display: none; }` but bootstrap.min.css set `[hidden] { display: none !important; }` so we also need the `!important` here to be able to override the default hidden behavior on the sphinx rendered scikit-learn.org. See: https://github.com/scikit-learn/scikit-learn/issues/21755 */display: inline-block !important;position: relative;}#sk-container-id-1 div.sk-text-repr-fallback {display: none;}</style><div id=\"sk-container-id-1\" class=\"sk-top-container\"><div class=\"sk-text-repr-fallback\"><pre>LogisticRegression(max_iter=500)</pre><b>In a Jupyter environment, please rerun this cell to show the HTML representation or trust the notebook. <br />On GitHub, the HTML representation is unable to render, please try loading this page with nbviewer.org.</b></div><div class=\"sk-container\" hidden><div class=\"sk-item\"><div class=\"sk-estimator sk-toggleable\"><input class=\"sk-toggleable__control sk-hidden--visually\" id=\"sk-estimator-id-1\" type=\"checkbox\" checked><label for=\"sk-estimator-id-1\" class=\"sk-toggleable__label sk-toggleable__label-arrow\">LogisticRegression</label><div class=\"sk-toggleable__content\"><pre>LogisticRegression(max_iter=500)</pre></div></div></div></div></div>"
            ]
          },
          "metadata": {},
          "execution_count": 19
        }
      ],
      "source": [
        "# Train a logistic regression model\n",
        "model = LogisticRegression(max_iter=500)\n",
        "model.fit(x_train, y_train)"
      ]
    },
    {
      "cell_type": "code",
      "execution_count": null,
      "id": "367df140",
      "metadata": {
        "execution": {
          "iopub.execute_input": "2023-09-19T00:13:04.710276Z",
          "iopub.status.busy": "2023-09-19T00:13:04.709877Z",
          "iopub.status.idle": "2023-09-19T00:13:04.721024Z",
          "shell.execute_reply": "2023-09-19T00:13:04.720109Z"
        },
        "papermill": {
          "duration": 0.023072,
          "end_time": "2023-09-19T00:13:04.723666",
          "exception": false,
          "start_time": "2023-09-19T00:13:04.700594",
          "status": "completed"
        },
        "tags": [],
        "colab": {
          "base_uri": "https://localhost:8080/"
        },
        "id": "367df140",
        "outputId": "c73cf9be-000e-48d1-d590-01e9512dc88a"
      },
      "outputs": [
        {
          "output_type": "stream",
          "name": "stdout",
          "text": [
            "Train accuracy:  0.8534608378870674\n",
            "Test accuracy:  0.8\n"
          ]
        }
      ],
      "source": [
        "# Evaluate the model\n",
        "train_accuracy = model.score(x_train, y_train)\n",
        "test_accuracy = model.score(x_test, y_test)\n",
        "print('Train accuracy: ', train_accuracy)\n",
        "print('Test accuracy: ', test_accuracy)"
      ]
    },
    {
      "cell_type": "code",
      "execution_count": null,
      "id": "356bd1d1",
      "metadata": {
        "execution": {
          "iopub.execute_input": "2023-09-19T00:13:04.742902Z",
          "iopub.status.busy": "2023-09-19T00:13:04.742277Z",
          "iopub.status.idle": "2023-09-19T00:13:04.775265Z",
          "shell.execute_reply": "2023-09-19T00:13:04.773565Z"
        },
        "papermill": {
          "duration": 0.045449,
          "end_time": "2023-09-19T00:13:04.777789",
          "exception": false,
          "start_time": "2023-09-19T00:13:04.732340",
          "status": "completed"
        },
        "tags": [],
        "colab": {
          "base_uri": "https://localhost:8080/"
        },
        "id": "356bd1d1",
        "outputId": "690b8c89-d5ba-40b0-9ff9-ec3571f17983"
      },
      "outputs": [
        {
          "output_type": "stream",
          "name": "stdout",
          "text": [
            "Train AUC:  0.9439124525725084\n",
            "Test AUC:  0.8934113729410794\n"
          ]
        }
      ],
      "source": [
        "# Predict probabilities for ROC AUC calculation\n",
        "Pr_train = model.predict_proba(x_train)\n",
        "Pr_test = model.predict_proba(x_test)\n",
        "train_auc = roc_auc_score(y_train, Pr_train, multi_class='ovo')\n",
        "test_auc = roc_auc_score(y_test, Pr_test, multi_class='ovo')\n",
        "print('Train AUC: ', train_auc)\n",
        "print('Test AUC: ', test_auc)"
      ]
    },
    {
      "cell_type": "code",
      "execution_count": null,
      "id": "f83c6c73",
      "metadata": {
        "execution": {
          "iopub.execute_input": "2023-09-19T00:13:04.798085Z",
          "iopub.status.busy": "2023-09-19T00:13:04.796084Z",
          "iopub.status.idle": "2023-09-19T00:13:04.804524Z",
          "shell.execute_reply": "2023-09-19T00:13:04.803518Z"
        },
        "papermill": {
          "duration": 0.020472,
          "end_time": "2023-09-19T00:13:04.806857",
          "exception": false,
          "start_time": "2023-09-19T00:13:04.786385",
          "status": "completed"
        },
        "tags": [],
        "id": "f83c6c73"
      },
      "outputs": [],
      "source": [
        "# Predict labels for confusion matrix\n",
        "P_train = model.predict(x_train)\n",
        "P_test = model.predict(x_test)"
      ]
    },
    {
      "cell_type": "code",
      "execution_count": null,
      "id": "2c508bda",
      "metadata": {
        "execution": {
          "iopub.execute_input": "2023-09-19T00:13:04.825161Z",
          "iopub.status.busy": "2023-09-19T00:13:04.824731Z",
          "iopub.status.idle": "2023-09-19T00:13:04.836084Z",
          "shell.execute_reply": "2023-09-19T00:13:04.834672Z"
        },
        "papermill": {
          "duration": 0.0236,
          "end_time": "2023-09-19T00:13:04.838707",
          "exception": false,
          "start_time": "2023-09-19T00:13:04.815107",
          "status": "completed"
        },
        "tags": [],
        "colab": {
          "base_uri": "https://localhost:8080/"
        },
        "id": "2c508bda",
        "outputId": "5e7ff38c-05e4-42da-9e67-f23cc886e0f6"
      },
      "outputs": [
        {
          "output_type": "execute_result",
          "data": {
            "text/plain": [
              "array([[0.96075581, 0.00930233, 0.02994186],\n",
              "       [0.19596865, 0.71444569, 0.08958567],\n",
              "       [0.31158168, 0.04667243, 0.64174589]])"
            ]
          },
          "metadata": {},
          "execution_count": 23
        }
      ],
      "source": [
        "# Create a normalized confusion matrix for the training set\n",
        "cm_train = confusion_matrix(y_train, P_train, normalize='true')\n",
        "cm_train"
      ]
    },
    {
      "cell_type": "code",
      "execution_count": null,
      "id": "02c82293",
      "metadata": {
        "execution": {
          "iopub.execute_input": "2023-09-19T00:13:04.857666Z",
          "iopub.status.busy": "2023-09-19T00:13:04.857028Z",
          "iopub.status.idle": "2023-09-19T00:13:05.061162Z",
          "shell.execute_reply": "2023-09-19T00:13:05.060356Z"
        },
        "papermill": {
          "duration": 0.215866,
          "end_time": "2023-09-19T00:13:05.063063",
          "exception": false,
          "start_time": "2023-09-19T00:13:04.847197",
          "status": "completed"
        },
        "tags": [],
        "colab": {
          "base_uri": "https://localhost:8080/",
          "height": 578
        },
        "id": "02c82293",
        "outputId": "74278eac-b8bf-4c4c-fa58-e3c7840253ab"
      },
      "outputs": [
        {
          "output_type": "display_data",
          "data": {
            "text/plain": [
              "<Figure size 800x600 with 1 Axes>"
            ],
            "image/png": "[encoded data removed]"
          },
          "metadata": {}
        }
      ],
      "source": [
        "# Create a heatmap for the confusion matrix (training set)\n",
        "plt.figure(figsize=(8, 6))\n",
        "sns.set(font_scale=1.2)\n",
        "heatmap = sns.heatmap(cm_train, annot=True, fmt='.2%', cmap='Blues', cbar=False,\n",
        "            xticklabels=['Predicted Negative', 'Predicted Positive', 'Neutral'],\n",
        "            yticklabels=['Actual Negative', 'Actual Positive', 'Neutral'])\n",
        "heatmap.xaxis.set_ticks_position('top')  # Move x-axis labels to the top\n",
        "plt.xlabel('Predicted Label')\n",
        "plt.ylabel('True Label')\n",
        "plt.title('Normalized Confusion Matrix for the Train Set')\n",
        "plt.show()"
      ]
    },
    {
      "cell_type": "code",
      "execution_count": null,
      "id": "0c70c384",
      "metadata": {
        "execution": {
          "iopub.execute_input": "2023-09-19T00:13:05.088571Z",
          "iopub.status.busy": "2023-09-19T00:13:05.087914Z",
          "iopub.status.idle": "2023-09-19T00:13:05.095673Z",
          "shell.execute_reply": "2023-09-19T00:13:05.094973Z"
        },
        "papermill": {
          "duration": 0.022725,
          "end_time": "2023-09-19T00:13:05.097535",
          "exception": false,
          "start_time": "2023-09-19T00:13:05.074810",
          "status": "completed"
        },
        "tags": [],
        "colab": {
          "base_uri": "https://localhost:8080/"
        },
        "id": "0c70c384",
        "outputId": "ffe28b3f-e98c-403c-b1d6-e82e828481e8"
      },
      "outputs": [
        {
          "output_type": "execute_result",
          "data": {
            "text/plain": [
              "array([[0.93559617, 0.01174935, 0.05265448],\n",
              "       [0.23570191, 0.63431542, 0.12998267],\n",
              "       [0.39745223, 0.07770701, 0.52484076]])"
            ]
          },
          "metadata": {},
          "execution_count": 25
        }
      ],
      "source": [
        "# Create a normalized confusion matrix for the testing set\n",
        "cm_test = confusion_matrix(y_test, P_test, normalize='true')\n",
        "cm_test"
      ]
    },
    {
      "cell_type": "code",
      "execution_count": null,
      "id": "1974d7e8",
      "metadata": {
        "execution": {
          "iopub.execute_input": "2023-09-19T00:13:05.120891Z",
          "iopub.status.busy": "2023-09-19T00:13:05.120288Z",
          "iopub.status.idle": "2023-09-19T00:13:05.326099Z",
          "shell.execute_reply": "2023-09-19T00:13:05.325351Z"
        },
        "papermill": {
          "duration": 0.218598,
          "end_time": "2023-09-19T00:13:05.328097",
          "exception": false,
          "start_time": "2023-09-19T00:13:05.109499",
          "status": "completed"
        },
        "tags": [],
        "colab": {
          "base_uri": "https://localhost:8080/",
          "height": 578
        },
        "id": "1974d7e8",
        "outputId": "8fe3b8df-0989-4e1b-c62a-f5da18f00599"
      },
      "outputs": [
        {
          "output_type": "display_data",
          "data": {
            "text/plain": [
              "<Figure size 800x600 with 1 Axes>"
            ],
            "image/png": "[encoded data removed]"
          },
          "metadata": {}
        }
      ],
      "source": [
        "# Create a heatmap for the confusion matrix (testing set)\n",
        "plt.figure(figsize=(8, 6))\n",
        "sns.set(font_scale=1.2)\n",
        "heatmap = sns.heatmap(cm_test, annot=True, fmt='.2%', cmap='Blues', cbar=False,\n",
        "            xticklabels=['Predicted Negative', 'Predicted Positive', 'Neutral'],\n",
        "            yticklabels=['Actual Negative', 'Actual Positive', 'Neutral'])\n",
        "heatmap.xaxis.set_ticks_position('top')  # Move x-axis labels to the top\n",
        "plt.xlabel('Predicted Label')\n",
        "plt.ylabel('True Label')\n",
        "plt.title('Normalized Confusion Matrix for the Test Set')\n",
        "plt.show()"
      ]
    },
    {
      "cell_type": "code",
      "execution_count": null,
      "id": "3330ec14",
      "metadata": {
        "execution": {
          "iopub.execute_input": "2023-09-19T00:13:05.356303Z",
          "iopub.status.busy": "2023-09-19T00:13:05.355710Z",
          "iopub.status.idle": "2023-09-19T00:13:05.363024Z",
          "shell.execute_reply": "2023-09-19T00:13:05.362317Z"
        },
        "papermill": {
          "duration": 0.023709,
          "end_time": "2023-09-19T00:13:05.365071",
          "exception": false,
          "start_time": "2023-09-19T00:13:05.341362",
          "status": "completed"
        },
        "tags": [],
        "id": "3330ec14"
      },
      "outputs": [],
      "source": [
        "# Filter the dataset to focus on binary sentiment classification (positive vs. negative)\n",
        "binary_target_list = [target_map['positive'], target_map['negative']]\n",
        "df_b_train = df_train[df_train['target'].isin(binary_target_list)]\n",
        "df_b_test = df_test[df_test['target'].isin(binary_target_list)]"
      ]
    },
    {
      "cell_type": "code",
      "execution_count": null,
      "id": "3ca0ba52",
      "metadata": {
        "execution": {
          "iopub.execute_input": "2023-09-19T00:13:05.388523Z",
          "iopub.status.busy": "2023-09-19T00:13:05.387845Z",
          "iopub.status.idle": "2023-09-19T00:13:05.584253Z",
          "shell.execute_reply": "2023-09-19T00:13:05.583151Z"
        },
        "papermill": {
          "duration": 0.210284,
          "end_time": "2023-09-19T00:13:05.586535",
          "exception": false,
          "start_time": "2023-09-19T00:13:05.376251",
          "status": "completed"
        },
        "tags": [],
        "id": "3ca0ba52"
      },
      "outputs": [],
      "source": [
        "# Vectorize text data for the binary sentiment classification\n",
        "x_train = vectorizer.fit_transform(df_b_train['text'])\n",
        "x_test = vectorizer.transform(df_b_test['text'])\n",
        "y_train = df_b_train['target']\n",
        "y_test = df_b_test['target']"
      ]
    },
    {
      "cell_type": "code",
      "execution_count": null,
      "id": "e7f64628",
      "metadata": {
        "execution": {
          "iopub.execute_input": "2023-09-19T00:13:05.608355Z",
          "iopub.status.busy": "2023-09-19T00:13:05.607733Z",
          "iopub.status.idle": "2023-09-19T00:13:05.712861Z",
          "shell.execute_reply": "2023-09-19T00:13:05.711920Z"
        },
        "papermill": {
          "duration": 0.119123,
          "end_time": "2023-09-19T00:13:05.715488",
          "exception": false,
          "start_time": "2023-09-19T00:13:05.596365",
          "status": "completed"
        },
        "tags": [],
        "colab": {
          "base_uri": "https://localhost:8080/"
        },
        "id": "e7f64628",
        "outputId": "12e703ff-f166-4b9e-fac6-b7435073d9b3"
      },
      "outputs": [
        {
          "output_type": "stream",
          "name": "stdout",
          "text": [
            "Binary Train accuracy:  0.9285714285714286\n",
            "Binary Test accuracy:  0.9193043478260869\n"
          ]
        }
      ],
      "source": [
        "# Train a logistic regression model for binary classification\n",
        "model = LogisticRegression(max_iter=500)\n",
        "model.fit(x_train, y_train)\n",
        "binary_train_accuracy = model.score(x_train, y_train)\n",
        "binary_test_accuracy = model.score(x_test, y_test)\n",
        "print('Binary Train accuracy: ', binary_train_accuracy)\n",
        "print('Binary Test accuracy: ', binary_test_accuracy)"
      ]
    },
    {
      "cell_type": "code",
      "execution_count": null,
      "id": "c08ee26d",
      "metadata": {
        "execution": {
          "iopub.execute_input": "2023-09-19T00:13:05.738132Z",
          "iopub.status.busy": "2023-09-19T00:13:05.737693Z",
          "iopub.status.idle": "2023-09-19T00:13:05.753112Z",
          "shell.execute_reply": "2023-09-19T00:13:05.752093Z"
        },
        "papermill": {
          "duration": 0.030079,
          "end_time": "2023-09-19T00:13:05.755842",
          "exception": false,
          "start_time": "2023-09-19T00:13:05.725763",
          "status": "completed"
        },
        "tags": [],
        "colab": {
          "base_uri": "https://localhost:8080/"
        },
        "id": "c08ee26d",
        "outputId": "82ce53ff-5d27-4acd-a972-d7f1c911d0c7"
      },
      "outputs": [
        {
          "output_type": "stream",
          "name": "stdout",
          "text": [
            "Binary Train AUC:  0.978621472889919\n",
            "Binary Test AUC:  0.9521500121422742\n"
          ]
        }
      ],
      "source": [
        "# Predict probabilities for ROC AUC calculation (binary classification)\n",
        "Pr_train = model.predict_proba(x_train)[:, 1]\n",
        "Pr_test = model.predict_proba(x_test)[:, 1]\n",
        "binary_train_auc = roc_auc_score(y_train, Pr_train)\n",
        "binary_test_auc = roc_auc_score(y_test, Pr_test)\n",
        "print('Binary Train AUC: ', binary_train_auc)\n",
        "print('Binary Test AUC: ', binary_test_auc)"
      ]
    },
    {
      "cell_type": "code",
      "execution_count": null,
      "id": "8ec812ab",
      "metadata": {
        "execution": {
          "iopub.execute_input": "2023-09-19T00:13:05.778949Z",
          "iopub.status.busy": "2023-09-19T00:13:05.778560Z",
          "iopub.status.idle": "2023-09-19T00:13:06.085364Z",
          "shell.execute_reply": "2023-09-19T00:13:06.084763Z"
        },
        "papermill": {
          "duration": 0.321037,
          "end_time": "2023-09-19T00:13:06.087113",
          "exception": false,
          "start_time": "2023-09-19T00:13:05.766076",
          "status": "completed"
        },
        "tags": [],
        "colab": {
          "base_uri": "https://localhost:8080/",
          "height": 485
        },
        "id": "8ec812ab",
        "outputId": "23634625-2e7a-4114-a03c-9c6368e472fc"
      },
      "outputs": [
        {
          "output_type": "display_data",
          "data": {
            "text/plain": [
              "<Figure size 640x480 with 1 Axes>"
            ],
            "image/png": "[encoded data removed]"
          },
          "metadata": {}
        }
      ],
      "source": [
        "# Plot a histogram of feature weights (coefficients)\n",
        "plt.hist(model.coef_[0], bins=40)\n",
        "plt.xlabel('Feature Weight')\n",
        "plt.ylabel('Frequency')\n",
        "plt.title('Distribution of Feature Weights')\n",
        "plt.show()"
      ]
    },
    {
      "cell_type": "code",
      "execution_count": null,
      "id": "3ad9cbdd",
      "metadata": {
        "execution": {
          "iopub.execute_input": "2023-09-19T00:13:06.108689Z",
          "iopub.status.busy": "2023-09-19T00:13:06.108299Z",
          "iopub.status.idle": "2023-09-19T00:13:06.114486Z",
          "shell.execute_reply": "2023-09-19T00:13:06.112625Z"
        },
        "papermill": {
          "duration": 0.020288,
          "end_time": "2023-09-19T00:13:06.117474",
          "exception": false,
          "start_time": "2023-09-19T00:13:06.097186",
          "status": "completed"
        },
        "tags": [],
        "id": "3ad9cbdd"
      },
      "outputs": [],
      "source": [
        "# Get the vocabulary index map\n",
        "word_index_map = vectorizer.vocabulary_"
      ]
    },
    {
      "cell_type": "code",
      "execution_count": null,
      "id": "19aa3327",
      "metadata": {
        "execution": {
          "iopub.execute_input": "2023-09-19T00:13:06.140060Z",
          "iopub.status.busy": "2023-09-19T00:13:06.139707Z",
          "iopub.status.idle": "2023-09-19T00:13:06.143987Z",
          "shell.execute_reply": "2023-09-19T00:13:06.143272Z"
        },
        "papermill": {
          "duration": 0.017685,
          "end_time": "2023-09-19T00:13:06.145728",
          "exception": false,
          "start_time": "2023-09-19T00:13:06.128043",
          "status": "completed"
        },
        "tags": [],
        "id": "19aa3327"
      },
      "outputs": [],
      "source": [
        "# Define a threshold for identifying most positive and most negative words\n",
        "threshold = 2"
      ]
    },
    {
      "cell_type": "code",
      "execution_count": null,
      "id": "b268093c",
      "metadata": {
        "execution": {
          "iopub.execute_input": "2023-09-19T00:13:06.167748Z",
          "iopub.status.busy": "2023-09-19T00:13:06.167331Z",
          "iopub.status.idle": "2023-09-19T00:13:06.174724Z",
          "shell.execute_reply": "2023-09-19T00:13:06.173202Z"
        },
        "papermill": {
          "duration": 0.020798,
          "end_time": "2023-09-19T00:13:06.176612",
          "exception": false,
          "start_time": "2023-09-19T00:13:06.155814",
          "status": "completed"
        },
        "tags": [],
        "colab": {
          "base_uri": "https://localhost:8080/"
        },
        "id": "b268093c",
        "outputId": "719f2a7a-247e-45c9-a9d5-67e1ad6c95fb"
      },
      "outputs": [
        {
          "output_type": "stream",
          "name": "stdout",
          "text": [
            "Most Positive Words\n",
            "southwestair 2.8975295896515596\n",
            "jetblue 3.022341341993024\n",
            "great 5.187821501990559\n",
            "thanks 7.817959287364075\n",
            "best 3.980654511470602\n",
            "thank 8.036257860424149\n",
            "love 4.24993832223975\n",
            "thx 2.7429341466590267\n",
            "virginamerica 3.3983543667635443\n",
            "good 3.1977965898142444\n",
            "awesome 3.817334476373398\n",
            "kudos 2.612324149761353\n",
            "appreciate 2.9746728783257566\n",
            "amazing 3.768138524748776\n",
            "worries 3.0178492334283913\n",
            "excellent 2.7561373146172596\n"
          ]
        }
      ],
      "source": [
        "# Identify and print the most positive words\n",
        "print('Most Positive Words')\n",
        "for word, index in word_index_map.items():\n",
        "    weight = model.coef_[0][index]\n",
        "    if weight > threshold:\n",
        "        print(word, weight)"
      ]
    },
    {
      "cell_type": "code",
      "execution_count": null,
      "id": "34231282",
      "metadata": {
        "execution": {
          "iopub.execute_input": "2023-09-19T00:13:06.198934Z",
          "iopub.status.busy": "2023-09-19T00:13:06.198243Z",
          "iopub.status.idle": "2023-09-19T00:13:06.207011Z",
          "shell.execute_reply": "2023-09-19T00:13:06.205652Z"
        },
        "papermill": {
          "duration": 0.022802,
          "end_time": "2023-09-19T00:13:06.209586",
          "exception": false,
          "start_time": "2023-09-19T00:13:06.186784",
          "status": "completed"
        },
        "tags": [],
        "colab": {
          "base_uri": "https://localhost:8080/"
        },
        "id": "34231282",
        "outputId": "b7117c62-ec8f-419f-f56c-d66023e1092a"
      },
      "outputs": [
        {
          "output_type": "stream",
          "name": "stdout",
          "text": [
            "Most Negative Words\n",
            "hours -3.4245003911203726\n",
            "no -3.5906289314803552\n",
            "not -4.395587611889142\n",
            "what -2.308678524789247\n",
            "why -2.2694435589695896\n",
            "hold -2.7436232036515555\n",
            "nothing -2.234039738632879\n",
            "can -2.032550274750581\n",
            "delayed -2.6217061038898564\n",
            "cancelled -3.222833141791383\n",
            "worst -3.0177919597907983\n"
          ]
        }
      ],
      "source": [
        "# Identify and print the most negative words\n",
        "print('Most Negative Words')\n",
        "for word, index in word_index_map.items():\n",
        "    weight = model.coef_[0][index]\n",
        "    if weight < -threshold:\n",
        "        print(word, weight)"
      ]
    }
  ],
  "metadata": {
    "kernelspec": {
      "display_name": "Python 3",
      "language": "python",
      "name": "python3"
    },
    "language_info": {
      "codemirror_mode": {
        "name": "ipython",
        "version": 3
      },
      "file_extension": ".py",
      "mimetype": "text/x-python",
      "name": "python",
      "nbconvert_exporter": "python",
      "pygments_lexer": "ipython3",
      "version": "3.10.12"
    },
    "papermill": {
      "default_parameters": {},
      "duration": 9.056932,
      "end_time": "2023-09-19T00:13:06.844298",
      "environment_variables": {},
      "exception": null,
      "input_path": "__notebook__.ipynb",
      "output_path": "__notebook__.ipynb",
      "parameters": {},
      "start_time": "2023-09-19T00:12:57.787366",
      "version": "2.4.0"
    },
    "colab": {
      "provenance": []
    }
  },
  "nbformat": 4,
  "nbformat_minor": 5
}